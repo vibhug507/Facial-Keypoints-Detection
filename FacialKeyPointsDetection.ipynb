{
 "cells": [
  {
   "cell_type": "code",
   "execution_count": 1,
   "id": "d7eca505",
   "metadata": {},
   "outputs": [],
   "source": [
    "import glob\n",
    "import os\n",
    "import numpy as np\n",
    "import pandas as pd\n",
    "import matplotlib.pyplot as plt\n",
    "import matplotlib.image as mpimg\n",
    "import cv2 as cv"
   ]
  },
  {
   "cell_type": "code",
   "execution_count": 2,
   "id": "f923e065",
   "metadata": {},
   "outputs": [],
   "source": [
    "# Train and test data\n",
    "key_pts_train = pd.read_csv('data/training_frames_keypoints.csv')\n",
    "key_pts_test = pd.read_csv('data/test_frames_keypoints.csv')"
   ]
  },
  {
   "cell_type": "code",
   "execution_count": 3,
   "id": "991fea18",
   "metadata": {},
   "outputs": [
    {
     "data": {
      "text/html": [
       "<div>\n",
       "<style scoped>\n",
       "    .dataframe tbody tr th:only-of-type {\n",
       "        vertical-align: middle;\n",
       "    }\n",
       "\n",
       "    .dataframe tbody tr th {\n",
       "        vertical-align: top;\n",
       "    }\n",
       "\n",
       "    .dataframe thead th {\n",
       "        text-align: right;\n",
       "    }\n",
       "</style>\n",
       "<table border=\"1\" class=\"dataframe\">\n",
       "  <thead>\n",
       "    <tr style=\"text-align: right;\">\n",
       "      <th></th>\n",
       "      <th>Unnamed: 0</th>\n",
       "      <th>0</th>\n",
       "      <th>1</th>\n",
       "      <th>2</th>\n",
       "      <th>3</th>\n",
       "      <th>4</th>\n",
       "      <th>5</th>\n",
       "      <th>6</th>\n",
       "      <th>7</th>\n",
       "      <th>8</th>\n",
       "      <th>...</th>\n",
       "      <th>126</th>\n",
       "      <th>127</th>\n",
       "      <th>128</th>\n",
       "      <th>129</th>\n",
       "      <th>130</th>\n",
       "      <th>131</th>\n",
       "      <th>132</th>\n",
       "      <th>133</th>\n",
       "      <th>134</th>\n",
       "      <th>135</th>\n",
       "    </tr>\n",
       "  </thead>\n",
       "  <tbody>\n",
       "    <tr>\n",
       "      <th>0</th>\n",
       "      <td>Luis_Fonsi_21.jpg</td>\n",
       "      <td>45.0</td>\n",
       "      <td>98.0</td>\n",
       "      <td>47.0</td>\n",
       "      <td>106.0</td>\n",
       "      <td>49.0</td>\n",
       "      <td>110.0</td>\n",
       "      <td>53.0</td>\n",
       "      <td>119.0</td>\n",
       "      <td>56.0</td>\n",
       "      <td>...</td>\n",
       "      <td>83.0</td>\n",
       "      <td>119.0</td>\n",
       "      <td>90.0</td>\n",
       "      <td>117.0</td>\n",
       "      <td>83.0</td>\n",
       "      <td>119.0</td>\n",
       "      <td>81.0</td>\n",
       "      <td>122.0</td>\n",
       "      <td>77.0</td>\n",
       "      <td>122.0</td>\n",
       "    </tr>\n",
       "    <tr>\n",
       "      <th>1</th>\n",
       "      <td>Lincoln_Chafee_52.jpg</td>\n",
       "      <td>41.0</td>\n",
       "      <td>83.0</td>\n",
       "      <td>43.0</td>\n",
       "      <td>91.0</td>\n",
       "      <td>45.0</td>\n",
       "      <td>100.0</td>\n",
       "      <td>47.0</td>\n",
       "      <td>108.0</td>\n",
       "      <td>51.0</td>\n",
       "      <td>...</td>\n",
       "      <td>85.0</td>\n",
       "      <td>122.0</td>\n",
       "      <td>94.0</td>\n",
       "      <td>120.0</td>\n",
       "      <td>85.0</td>\n",
       "      <td>122.0</td>\n",
       "      <td>83.0</td>\n",
       "      <td>122.0</td>\n",
       "      <td>79.0</td>\n",
       "      <td>122.0</td>\n",
       "    </tr>\n",
       "    <tr>\n",
       "      <th>2</th>\n",
       "      <td>Valerie_Harper_30.jpg</td>\n",
       "      <td>56.0</td>\n",
       "      <td>69.0</td>\n",
       "      <td>56.0</td>\n",
       "      <td>77.0</td>\n",
       "      <td>56.0</td>\n",
       "      <td>86.0</td>\n",
       "      <td>56.0</td>\n",
       "      <td>94.0</td>\n",
       "      <td>58.0</td>\n",
       "      <td>...</td>\n",
       "      <td>79.0</td>\n",
       "      <td>105.0</td>\n",
       "      <td>86.0</td>\n",
       "      <td>108.0</td>\n",
       "      <td>77.0</td>\n",
       "      <td>105.0</td>\n",
       "      <td>75.0</td>\n",
       "      <td>105.0</td>\n",
       "      <td>73.0</td>\n",
       "      <td>105.0</td>\n",
       "    </tr>\n",
       "    <tr>\n",
       "      <th>3</th>\n",
       "      <td>Angelo_Reyes_22.jpg</td>\n",
       "      <td>61.0</td>\n",
       "      <td>80.0</td>\n",
       "      <td>58.0</td>\n",
       "      <td>95.0</td>\n",
       "      <td>58.0</td>\n",
       "      <td>108.0</td>\n",
       "      <td>58.0</td>\n",
       "      <td>120.0</td>\n",
       "      <td>58.0</td>\n",
       "      <td>...</td>\n",
       "      <td>98.0</td>\n",
       "      <td>136.0</td>\n",
       "      <td>107.0</td>\n",
       "      <td>139.0</td>\n",
       "      <td>95.0</td>\n",
       "      <td>139.0</td>\n",
       "      <td>91.0</td>\n",
       "      <td>139.0</td>\n",
       "      <td>85.0</td>\n",
       "      <td>136.0</td>\n",
       "    </tr>\n",
       "    <tr>\n",
       "      <th>4</th>\n",
       "      <td>Kristen_Breitweiser_11.jpg</td>\n",
       "      <td>58.0</td>\n",
       "      <td>94.0</td>\n",
       "      <td>58.0</td>\n",
       "      <td>104.0</td>\n",
       "      <td>60.0</td>\n",
       "      <td>113.0</td>\n",
       "      <td>62.0</td>\n",
       "      <td>121.0</td>\n",
       "      <td>67.0</td>\n",
       "      <td>...</td>\n",
       "      <td>92.0</td>\n",
       "      <td>117.0</td>\n",
       "      <td>103.0</td>\n",
       "      <td>118.0</td>\n",
       "      <td>92.0</td>\n",
       "      <td>120.0</td>\n",
       "      <td>88.0</td>\n",
       "      <td>122.0</td>\n",
       "      <td>84.0</td>\n",
       "      <td>122.0</td>\n",
       "    </tr>\n",
       "  </tbody>\n",
       "</table>\n",
       "<p>5 rows × 137 columns</p>\n",
       "</div>"
      ],
      "text/plain": [
       "                   Unnamed: 0     0     1     2      3     4      5     6  \\\n",
       "0           Luis_Fonsi_21.jpg  45.0  98.0  47.0  106.0  49.0  110.0  53.0   \n",
       "1       Lincoln_Chafee_52.jpg  41.0  83.0  43.0   91.0  45.0  100.0  47.0   \n",
       "2       Valerie_Harper_30.jpg  56.0  69.0  56.0   77.0  56.0   86.0  56.0   \n",
       "3         Angelo_Reyes_22.jpg  61.0  80.0  58.0   95.0  58.0  108.0  58.0   \n",
       "4  Kristen_Breitweiser_11.jpg  58.0  94.0  58.0  104.0  60.0  113.0  62.0   \n",
       "\n",
       "       7     8  ...     126    127    128    129   130    131   132    133  \\\n",
       "0  119.0  56.0  ...    83.0  119.0   90.0  117.0  83.0  119.0  81.0  122.0   \n",
       "1  108.0  51.0  ...    85.0  122.0   94.0  120.0  85.0  122.0  83.0  122.0   \n",
       "2   94.0  58.0  ...    79.0  105.0   86.0  108.0  77.0  105.0  75.0  105.0   \n",
       "3  120.0  58.0  ...    98.0  136.0  107.0  139.0  95.0  139.0  91.0  139.0   \n",
       "4  121.0  67.0  ...    92.0  117.0  103.0  118.0  92.0  120.0  88.0  122.0   \n",
       "\n",
       "    134    135  \n",
       "0  77.0  122.0  \n",
       "1  79.0  122.0  \n",
       "2  73.0  105.0  \n",
       "3  85.0  136.0  \n",
       "4  84.0  122.0  \n",
       "\n",
       "[5 rows x 137 columns]"
      ]
     },
     "execution_count": 3,
     "metadata": {},
     "output_type": "execute_result"
    }
   ],
   "source": [
    "key_pts_train.head()"
   ]
  },
  {
   "cell_type": "code",
   "execution_count": 4,
   "id": "bf7f7853",
   "metadata": {},
   "outputs": [
    {
     "data": {
      "text/html": [
       "<div>\n",
       "<style scoped>\n",
       "    .dataframe tbody tr th:only-of-type {\n",
       "        vertical-align: middle;\n",
       "    }\n",
       "\n",
       "    .dataframe tbody tr th {\n",
       "        vertical-align: top;\n",
       "    }\n",
       "\n",
       "    .dataframe thead th {\n",
       "        text-align: right;\n",
       "    }\n",
       "</style>\n",
       "<table border=\"1\" class=\"dataframe\">\n",
       "  <thead>\n",
       "    <tr style=\"text-align: right;\">\n",
       "      <th></th>\n",
       "      <th>Unnamed: 0</th>\n",
       "      <th>0</th>\n",
       "      <th>1</th>\n",
       "      <th>2</th>\n",
       "      <th>3</th>\n",
       "      <th>4</th>\n",
       "      <th>5</th>\n",
       "      <th>6</th>\n",
       "      <th>7</th>\n",
       "      <th>8</th>\n",
       "      <th>...</th>\n",
       "      <th>126</th>\n",
       "      <th>127</th>\n",
       "      <th>128</th>\n",
       "      <th>129</th>\n",
       "      <th>130</th>\n",
       "      <th>131</th>\n",
       "      <th>132</th>\n",
       "      <th>133</th>\n",
       "      <th>134</th>\n",
       "      <th>135</th>\n",
       "    </tr>\n",
       "  </thead>\n",
       "  <tbody>\n",
       "    <tr>\n",
       "      <th>0</th>\n",
       "      <td>James_Wolfensohn_00.jpg</td>\n",
       "      <td>25.0</td>\n",
       "      <td>44.0</td>\n",
       "      <td>25.0</td>\n",
       "      <td>49.0</td>\n",
       "      <td>25.0</td>\n",
       "      <td>54.0</td>\n",
       "      <td>25.0</td>\n",
       "      <td>59.0</td>\n",
       "      <td>26.0</td>\n",
       "      <td>...</td>\n",
       "      <td>42.0</td>\n",
       "      <td>65.0</td>\n",
       "      <td>46.0</td>\n",
       "      <td>65.0</td>\n",
       "      <td>42.0</td>\n",
       "      <td>65.0</td>\n",
       "      <td>39.0</td>\n",
       "      <td>65.0</td>\n",
       "      <td>38.0</td>\n",
       "      <td>65.0</td>\n",
       "    </tr>\n",
       "    <tr>\n",
       "      <th>1</th>\n",
       "      <td>Valerie_Harper_30.jpg</td>\n",
       "      <td>55.0</td>\n",
       "      <td>62.0</td>\n",
       "      <td>52.0</td>\n",
       "      <td>72.0</td>\n",
       "      <td>52.0</td>\n",
       "      <td>83.0</td>\n",
       "      <td>55.0</td>\n",
       "      <td>90.0</td>\n",
       "      <td>55.0</td>\n",
       "      <td>...</td>\n",
       "      <td>78.0</td>\n",
       "      <td>104.0</td>\n",
       "      <td>88.0</td>\n",
       "      <td>106.0</td>\n",
       "      <td>78.0</td>\n",
       "      <td>106.0</td>\n",
       "      <td>75.0</td>\n",
       "      <td>104.0</td>\n",
       "      <td>70.0</td>\n",
       "      <td>104.0</td>\n",
       "    </tr>\n",
       "    <tr>\n",
       "      <th>2</th>\n",
       "      <td>Kristen_Breitweiser_11.jpg</td>\n",
       "      <td>60.0</td>\n",
       "      <td>88.0</td>\n",
       "      <td>60.0</td>\n",
       "      <td>98.0</td>\n",
       "      <td>63.0</td>\n",
       "      <td>109.0</td>\n",
       "      <td>65.0</td>\n",
       "      <td>116.0</td>\n",
       "      <td>68.0</td>\n",
       "      <td>...</td>\n",
       "      <td>96.0</td>\n",
       "      <td>114.0</td>\n",
       "      <td>106.0</td>\n",
       "      <td>117.0</td>\n",
       "      <td>96.0</td>\n",
       "      <td>117.0</td>\n",
       "      <td>94.0</td>\n",
       "      <td>117.0</td>\n",
       "      <td>89.0</td>\n",
       "      <td>117.0</td>\n",
       "    </tr>\n",
       "    <tr>\n",
       "      <th>3</th>\n",
       "      <td>Elizabeth_Dole_31.jpg</td>\n",
       "      <td>41.0</td>\n",
       "      <td>96.0</td>\n",
       "      <td>43.0</td>\n",
       "      <td>104.0</td>\n",
       "      <td>47.0</td>\n",
       "      <td>113.0</td>\n",
       "      <td>49.0</td>\n",
       "      <td>120.0</td>\n",
       "      <td>56.0</td>\n",
       "      <td>...</td>\n",
       "      <td>98.0</td>\n",
       "      <td>118.0</td>\n",
       "      <td>103.0</td>\n",
       "      <td>118.0</td>\n",
       "      <td>98.0</td>\n",
       "      <td>120.0</td>\n",
       "      <td>96.0</td>\n",
       "      <td>122.0</td>\n",
       "      <td>94.0</td>\n",
       "      <td>122.0</td>\n",
       "    </tr>\n",
       "    <tr>\n",
       "      <th>4</th>\n",
       "      <td>Kit_Bond_20.jpg</td>\n",
       "      <td>35.0</td>\n",
       "      <td>67.0</td>\n",
       "      <td>37.0</td>\n",
       "      <td>74.0</td>\n",
       "      <td>41.0</td>\n",
       "      <td>81.0</td>\n",
       "      <td>44.0</td>\n",
       "      <td>87.0</td>\n",
       "      <td>48.0</td>\n",
       "      <td>...</td>\n",
       "      <td>76.0</td>\n",
       "      <td>96.0</td>\n",
       "      <td>83.0</td>\n",
       "      <td>93.0</td>\n",
       "      <td>76.0</td>\n",
       "      <td>98.0</td>\n",
       "      <td>73.0</td>\n",
       "      <td>98.0</td>\n",
       "      <td>69.0</td>\n",
       "      <td>98.0</td>\n",
       "    </tr>\n",
       "  </tbody>\n",
       "</table>\n",
       "<p>5 rows × 137 columns</p>\n",
       "</div>"
      ],
      "text/plain": [
       "                   Unnamed: 0     0     1     2      3     4      5     6  \\\n",
       "0     James_Wolfensohn_00.jpg  25.0  44.0  25.0   49.0  25.0   54.0  25.0   \n",
       "1       Valerie_Harper_30.jpg  55.0  62.0  52.0   72.0  52.0   83.0  55.0   \n",
       "2  Kristen_Breitweiser_11.jpg  60.0  88.0  60.0   98.0  63.0  109.0  65.0   \n",
       "3       Elizabeth_Dole_31.jpg  41.0  96.0  43.0  104.0  47.0  113.0  49.0   \n",
       "4             Kit_Bond_20.jpg  35.0  67.0  37.0   74.0  41.0   81.0  44.0   \n",
       "\n",
       "       7     8  ...     126    127    128    129   130    131   132    133  \\\n",
       "0   59.0  26.0  ...    42.0   65.0   46.0   65.0  42.0   65.0  39.0   65.0   \n",
       "1   90.0  55.0  ...    78.0  104.0   88.0  106.0  78.0  106.0  75.0  104.0   \n",
       "2  116.0  68.0  ...    96.0  114.0  106.0  117.0  96.0  117.0  94.0  117.0   \n",
       "3  120.0  56.0  ...    98.0  118.0  103.0  118.0  98.0  120.0  96.0  122.0   \n",
       "4   87.0  48.0  ...    76.0   96.0   83.0   93.0  76.0   98.0  73.0   98.0   \n",
       "\n",
       "    134    135  \n",
       "0  38.0   65.0  \n",
       "1  70.0  104.0  \n",
       "2  89.0  117.0  \n",
       "3  94.0  122.0  \n",
       "4  69.0   98.0  \n",
       "\n",
       "[5 rows x 137 columns]"
      ]
     },
     "execution_count": 4,
     "metadata": {},
     "output_type": "execute_result"
    }
   ],
   "source": [
    "key_pts_test.head()"
   ]
  },
  {
   "cell_type": "code",
   "execution_count": 5,
   "id": "4cbaefc0",
   "metadata": {},
   "outputs": [],
   "source": [
    "key_pts_train.columns = [i for i in range(137)]\n",
    "key_pts_test.columns = [i for i in range(137)]"
   ]
  },
  {
   "cell_type": "code",
   "execution_count": 6,
   "id": "f43db45e",
   "metadata": {},
   "outputs": [
    {
     "name": "stdout",
     "output_type": "stream",
     "text": [
      "Net(\n",
      "  (conv1): Conv2d(1, 128, kernel_size=(3, 3), stride=(1, 1))\n",
      "  (batch1): BatchNorm2d(32, eps=1e-05, momentum=0.1, affine=True, track_running_stats=True)\n",
      "  (act1): ReLU()\n",
      "  (pool1): MaxPool2d(kernel_size=2, stride=2, padding=0, dilation=1, ceil_mode=False)\n",
      "  (conv2): Conv2d(128, 256, kernel_size=(3, 3), stride=(1, 1))\n",
      "  (batch2): BatchNorm2d(64, eps=1e-05, momentum=0.1, affine=True, track_running_stats=True)\n",
      "  (act2): ReLU()\n",
      "  (pool2): MaxPool2d(kernel_size=2, stride=2, padding=0, dilation=1, ceil_mode=False)\n",
      "  (conv3): Conv2d(256, 512, kernel_size=(3, 3), stride=(1, 1))\n",
      "  (batch3): BatchNorm2d(128, eps=1e-05, momentum=0.1, affine=True, track_running_stats=True)\n",
      "  (act3): ReLU()\n",
      "  (pool3): MaxPool2d(kernel_size=2, stride=2, padding=0, dilation=1, ceil_mode=False)\n",
      "  (conv4): Conv2d(512, 1024, kernel_size=(3, 3), stride=(1, 1))\n",
      "  (batch4): BatchNorm2d(256, eps=1e-05, momentum=0.1, affine=True, track_running_stats=True)\n",
      "  (act4): ReLU()\n",
      "  (pool4): MaxPool2d(kernel_size=2, stride=2, padding=0, dilation=1, ceil_mode=False)\n",
      "  (conv5): Conv2d(1024, 2048, kernel_size=(3, 3), stride=(1, 1))\n",
      "  (batch5): BatchNorm2d(512, eps=1e-05, momentum=0.1, affine=True, track_running_stats=True)\n",
      "  (act5): ReLU()\n",
      "  (pool5): MaxPool2d(kernel_size=2, stride=2, padding=0, dilation=1, ceil_mode=False)\n",
      "  (conv6): Conv2d(2048, 4096, kernel_size=(3, 3), stride=(1, 1))\n",
      "  (act6): ReLU()\n",
      "  (pool6): MaxPool2d(kernel_size=2, stride=2, padding=0, dilation=1, ceil_mode=False)\n",
      "  (flat): Flatten(start_dim=1, end_dim=-1)\n",
      "  (fc1): Linear(in_features=4096, out_features=1024, bias=True)\n",
      "  (drop2): Dropout(p=0.5, inplace=False)\n",
      "  (fc2): Linear(in_features=1024, out_features=1024, bias=True)\n",
      "  (fc3): Linear(in_features=1024, out_features=136, bias=True)\n",
      ")\n"
     ]
    }
   ],
   "source": [
    "# Importing the model\n",
    "from models import Net\n",
    "import torch\n",
    "import torch.nn as nn\n",
    "import torch.nn.functional as F\n",
    "\n",
    "# Creating an instance of the model\n",
    "model = Net()\n",
    "print(model)"
   ]
  },
  {
   "cell_type": "code",
   "execution_count": 7,
   "id": "b6e8643b",
   "metadata": {},
   "outputs": [],
   "source": [
    "from torch.utils.data import Dataset, DataLoader\n",
    "from torchvision import transforms, utils\n",
    "from data_load import FacialKeypointsDataset\n",
    "from data_load import Rescale, RandomCrop, Normalise, ToTensor\n",
    "\n",
    "# Define the data transforms\n",
    "data_transform = transforms.Compose([Rescale(250),\n",
    "                                     RandomCrop(224),\n",
    "                                     Normalise(),\n",
    "                                     ToTensor()])"
   ]
  },
  {
   "cell_type": "code",
   "execution_count": 8,
   "id": "702026b9",
   "metadata": {},
   "outputs": [],
   "source": [
    "train_dataset = FacialKeypointsDataset(csv_file = 'data/training_frames_keypoints.csv',\n",
    "                                             root_dir = 'data/training/',\n",
    "                                             transform = data_transform)\n",
    "\n",
    "test_dataset = FacialKeypointsDataset(csv_file = 'data/test_frames_keypoints.csv',\n",
    "                                      root_dir = 'data/test/',\n",
    "                                     transform = data_transform)"
   ]
  },
  {
   "cell_type": "code",
   "execution_count": 9,
   "id": "3dfe9a08",
   "metadata": {},
   "outputs": [],
   "source": [
    "batch_size = 32\n",
    "\n",
    "train_loader = DataLoader(train_dataset, \n",
    "                          batch_size = batch_size,\n",
    "                          shuffle = True)\n",
    "\n",
    "test_loader = DataLoader(test_dataset, \n",
    "                          batch_size = batch_size,\n",
    "                          shuffle = True)"
   ]
  },
  {
   "cell_type": "code",
   "execution_count": 10,
   "id": "67725a6b",
   "metadata": {},
   "outputs": [],
   "source": [
    "# Helper function to test the model on a batch of test images\n",
    "\n",
    "def net_sample_output():\n",
    "    \n",
    "    for i, sample in enumerate(test_loader):\n",
    "        \n",
    "        images = sample['image']\n",
    "        key_pts = sample['keypoints']\n",
    "\n",
    "        images = images.type(torch.FloatTensor)\n",
    "\n",
    "        output_pts = model(images)\n",
    "        \n",
    "        output_pts = output_pts.view(output_pts.size()[0], 68, -1)\n",
    "        \n",
    "        if i == 0:\n",
    "            return images, output_pts, key_pts"
   ]
  },
  {
   "cell_type": "code",
   "execution_count": 11,
   "id": "f6d730ab",
   "metadata": {},
   "outputs": [
    {
     "name": "stdout",
     "output_type": "stream",
     "text": [
      "torch.Size([32, 1, 224, 224])\n",
      "torch.Size([32, 68, 2])\n",
      "torch.Size([32, 68, 2])\n"
     ]
    }
   ],
   "source": [
    "test_images, test_outputs, gt_pts = net_sample_output()\n",
    "\n",
    "# Validating the output produced by the net_sample_output() function\n",
    "print(test_images.data.size())\n",
    "print(test_outputs.data.size())\n",
    "print(gt_pts.size())"
   ]
  },
  {
   "cell_type": "code",
   "execution_count": 12,
   "id": "a4b23d95",
   "metadata": {},
   "outputs": [],
   "source": [
    "def show_all_keypoints(image, predicted_key_pts, gt_pts=None):\n",
    "    \n",
    "    # gt_pts - ground truth points\n",
    "    \n",
    "    plt.imshow(image, cmap='gray')\n",
    "    plt.scatter(predicted_key_pts[:, 0], predicted_key_pts[:, 1], s=20, marker='.', c='m')\n",
    "    \n",
    "    if gt_pts is not None:\n",
    "        plt.scatter(gt_pts[:, 0], gt_pts[:, 1], s=20, marker='.', c='g')"
   ]
  },
  {
   "cell_type": "code",
   "execution_count": 13,
   "id": "d208468f",
   "metadata": {},
   "outputs": [
    {
     "data": {
      "image/png": "[encoded data removed]",
      "text/plain": [
       "<matplotlib.figure.Figure at 0x7fa87c42d4a8>"
      ]
     },
     "metadata": {
      "needs_background": "light"
     },
     "output_type": "display_data"
    },
    {
     "data": {
      "image/png": "[encoded data removed]",
      "text/plain": [
       "<matplotlib.figure.Figure at 0x7fa87d8ed160>"
      ]
     },
     "metadata": {
      "needs_background": "light"
     },
     "output_type": "display_data"
    },
    {
     "data": {
      "image/png": "[encoded data removed]",
      "text/plain": [
       "<matplotlib.figure.Figure at 0x7fa87d964a58>"
      ]
     },
     "metadata": {
      "needs_background": "light"
     },
     "output_type": "display_data"
    },
    {
     "data": {
      "image/png": "[encoded data removed]",
      "text/plain": [
       "<matplotlib.figure.Figure at 0x7fa87d9f1ac8>"
      ]
     },
     "metadata": {
      "needs_background": "light"
     },
     "output_type": "display_data"
    },
    {
     "data": {
      "image/png": "[encoded data removed]",
      "text/plain": [
       "<matplotlib.figure.Figure at 0x7fa87c50d400>"
      ]
     },
     "metadata": {
      "needs_background": "light"
     },
     "output_type": "display_data"
    },
    {
     "data": {
      "image/png": "[encoded data removed]",
      "text/plain": [
       "<matplotlib.figure.Figure at 0x7fa87c571128>"
      ]
     },
     "metadata": {
      "needs_background": "light"
     },
     "output_type": "display_data"
    },
    {
     "data": {
      "image/png": "[encoded data removed]",
      "text/plain": [
       "<matplotlib.figure.Figure at 0x7fa87c5a3c18>"
      ]
     },
     "metadata": {
      "needs_background": "light"
     },
     "output_type": "display_data"
    },
    {
     "data": {
      "image/png": "[encoded data removed]",
      "text/plain": [
       "<matplotlib.figure.Figure at 0x7fa87c607fd0>"
      ]
     },
     "metadata": {
      "needs_background": "light"
     },
     "output_type": "display_data"
    },
    {
     "data": {
      "image/png": "[encoded data removed]",
      "text/plain": [
       "<matplotlib.figure.Figure at 0x7fa87c68dcf8>"
      ]
     },
     "metadata": {
      "needs_background": "light"
     },
     "output_type": "display_data"
    },
    {
     "data": {
      "image/png": "[encoded data removed]",
      "text/plain": [
       "<matplotlib.figure.Figure at 0x7fa87c6f3d30>"
      ]
     },
     "metadata": {
      "needs_background": "light"
     },
     "output_type": "display_data"
    }
   ],
   "source": [
    "def visualize_output(test_images, test_outputs, gt_pts=None, batch_size=10):\n",
    "\n",
    "    for i in range(batch_size):\n",
    "        plt.figure(figsize=(20,10))\n",
    "        ax = plt.subplot(1, batch_size, i+1)\n",
    "\n",
    "        # un-transform the data\n",
    "        image = test_images[i].data   \n",
    "        image = image.numpy()   \n",
    "        image = np.transpose(image, (1, 2, 0))   \n",
    "\n",
    "        predicted_key_pts = test_outputs[i].data\n",
    "        predicted_key_pts = predicted_key_pts.numpy()\n",
    "        \n",
    "        predicted_key_pts = predicted_key_pts*50.0+100\n",
    "        \n",
    "        ground_truth_pts = None\n",
    "        if gt_pts is not None:\n",
    "            ground_truth_pts = gt_pts[i]         \n",
    "            ground_truth_pts = ground_truth_pts*50.0+100\n",
    "        \n",
    "        show_all_keypoints(np.squeeze(image), predicted_key_pts, ground_truth_pts)\n",
    "            \n",
    "        plt.axis('off')\n",
    "\n",
    "    plt.show()\n",
    "    \n",
    "visualize_output(test_images, test_outputs, gt_pts)"
   ]
  },
  {
   "cell_type": "code",
   "execution_count": 14,
   "id": "1f36e940",
   "metadata": {},
   "outputs": [
    {
     "name": "stdout",
     "output_type": "stream",
     "text": [
      "Total number of training images: 3462\n",
      "Total number of test images: 770\n"
     ]
    }
   ],
   "source": [
    "print(\"Total number of training images:\", len(key_pts_train))\n",
    "print(\"Total number of test images:\", len(key_pts_test))"
   ]
  },
  {
   "cell_type": "code",
   "execution_count": 15,
   "id": "598cc535",
   "metadata": {},
   "outputs": [],
   "source": [
    "import torch.optim as optim\n",
    "\n",
    "# Defining the loss function for our model i.e., Mean Squared Loss as predicting the location\n",
    "# of the keypoints is a regression task\n",
    "criterion = nn.MSELoss()\n",
    "\n",
    "# Defining the optimising algortihm for our model i.e., Adam to improve the values of the\n",
    "# parameters\n",
    "optimizer = optim.Adam(model.parameters(),lr = 0.001)"
   ]
  },
  {
   "cell_type": "code",
   "execution_count": 16,
   "id": "689c53ee",
   "metadata": {},
   "outputs": [],
   "source": [
    "def train_net(n_epochs):\n",
    "\n",
    "    model.train()\n",
    "    loss_over_time = []\n",
    "\n",
    "    for epoch in range(n_epochs):  \n",
    "        \n",
    "        running_loss = 0.0\n",
    "\n",
    "        for batch_i, data in enumerate(train_loader):\n",
    "            \n",
    "            images = data['image']\n",
    "            key_pts = data['keypoints']\n",
    "\n",
    "            key_pts = key_pts.view(key_pts.size(0), -1)\n",
    "\n",
    "            key_pts = key_pts.type(torch.FloatTensor)\n",
    "            images = images.type(torch.FloatTensor)\n",
    "\n",
    "            output_pts = model(images)\n",
    "\n",
    "            loss = criterion(output_pts, key_pts)\n",
    "\n",
    "            optimizer.zero_grad()\n",
    "            \n",
    "            loss.backward()\n",
    "\n",
    "            optimizer.step()\n",
    "\n",
    "            running_loss += loss.item()\n",
    "            if batch_i % 32 == 31:    # print every 32 batches\n",
    "                print('Epoch: {}, Batch: {}, Avg. Loss: {}'.format(epoch + 1, batch_i+1, running_loss/32.0))\n",
    "                loss_over_time.append(running_loss/32.0)\n",
    "                running_loss = 0.0\n",
    "\n",
    "    print('Finished Training')\n",
    "    return loss_over_time"
   ]
  },
  {
   "cell_type": "code",
   "execution_count": null,
   "id": "f844b1d4",
   "metadata": {},
   "outputs": [
    {
     "name": "stdout",
     "output_type": "stream",
     "text": [
      "Epoch: 1, Batch: 32, Avg. Loss: 8.630628085229546\n",
      "Epoch: 1, Batch: 64, Avg. Loss: 0.23341704346239567\n",
      "Epoch: 1, Batch: 96, Avg. Loss: 0.21111779008060694\n",
      "Epoch: 2, Batch: 32, Avg. Loss: 0.19481106800958514\n",
      "Epoch: 2, Batch: 64, Avg. Loss: 0.17977213952690363\n",
      "Epoch: 2, Batch: 96, Avg. Loss: 0.18603315367363393\n",
      "Epoch: 3, Batch: 32, Avg. Loss: 0.1944488117005676\n",
      "Epoch: 3, Batch: 64, Avg. Loss: 0.19355905894190073\n",
      "Epoch: 3, Batch: 96, Avg. Loss: 0.22371690534055233\n"
     ]
    }
   ],
   "source": [
    "training_loss = train_net(5)"
   ]
  },
  {
   "cell_type": "code",
   "execution_count": null,
   "id": "1deb79d1",
   "metadata": {},
   "outputs": [],
   "source": [
    "plt.plot([i for i in range(1,16)],training_loss)"
   ]
  },
  {
   "cell_type": "code",
   "execution_count": null,
   "id": "129c5fd8",
   "metadata": {},
   "outputs": [],
   "source": [
    "# Testing the model on some test images \n",
    "test_images, test_outputs, gt_pts = net_sample_output()\n",
    "visualize_output(test_images, test_outputs, gt_pts)"
   ]
  },
  {
   "cell_type": "code",
   "execution_count": null,
   "id": "8763333a",
   "metadata": {},
   "outputs": [],
   "source": [
    "weights1 = model.conv1.weight.data\n",
    "\n",
    "w = weights1.numpy()\n",
    "\n",
    "filter_index = 19\n",
    "\n",
    "print(w[filter_index][0])\n",
    "print(w[filter_index][0].shape)\n",
    "\n",
    "# display the filter weights\n",
    "plt.imshow(w[filter_index][0], cmap='gray')"
   ]
  },
  {
   "cell_type": "code",
   "execution_count": null,
   "id": "f58929e9",
   "metadata": {},
   "outputs": [],
   "source": [
    "image = test_images[4].data   \n",
    "image = image.numpy()   \n",
    "image = np.transpose(image, (1, 2, 0))   \n",
    "image = np.squeeze(image)\n",
    "\n",
    "filtered_image = cv.filter2D(image, -1, w[filter_index][0])\n",
    "plt.imshow(filtered_image, cmap='gray')"
   ]
  },
  {
   "cell_type": "code",
   "execution_count": null,
   "id": "6f58ba52",
   "metadata": {},
   "outputs": [],
   "source": [
    "plt.imshow(image, cmap='gray')"
   ]
  },
  {
   "cell_type": "code",
   "execution_count": null,
   "id": "227020db",
   "metadata": {},
   "outputs": [],
   "source": []
  },
  {
   "cell_type": "code",
   "execution_count": null,
   "id": "574cef4d",
   "metadata": {},
   "outputs": [],
   "source": []
  },
  {
   "cell_type": "code",
   "execution_count": null,
   "id": "2d006fae",
   "metadata": {},
   "outputs": [],
   "source": []
  },
  {
   "cell_type": "code",
   "execution_count": null,
   "id": "123ba067",
   "metadata": {},
   "outputs": [],
   "source": []
  },
  {
   "cell_type": "code",
   "execution_count": null,
   "id": "7ad0fc09",
   "metadata": {},
   "outputs": [],
   "source": []
  },
  {
   "cell_type": "code",
   "execution_count": null,
   "id": "c7106f32",
   "metadata": {},
   "outputs": [],
   "source": []
  },
  {
   "cell_type": "code",
   "execution_count": null,
   "id": "4fc1e33a",
   "metadata": {},
   "outputs": [],
   "source": []
  },
  {
   "cell_type": "code",
   "execution_count": null,
   "id": "848cca25",
   "metadata": {},
   "outputs": [],
   "source": []
  },
  {
   "cell_type": "code",
   "execution_count": null,
   "id": "880d652f",
   "metadata": {},
   "outputs": [],
   "source": []
  },
  {
   "cell_type": "code",
   "execution_count": null,
   "id": "609af2f3",
   "metadata": {},
   "outputs": [],
   "source": []
  },
  {
   "cell_type": "code",
   "execution_count": null,
   "id": "f1f10584",
   "metadata": {},
   "outputs": [],
   "source": []
  }
 ],
 "metadata": {
  "kernelspec": {
   "display_name": "cv-nd",
   "language": "python",
   "name": "cv-nd"
  },
  "language_info": {
   "codemirror_mode": {
    "name": "ipython",
    "version": 3
   },
   "file_extension": ".py",
   "mimetype": "text/x-python",
   "name": "python",
   "nbconvert_exporter": "python",
   "pygments_lexer": "ipython3",
   "version": "3.6.13"
  }
 },
 "nbformat": 4,
 "nbformat_minor": 5
}
